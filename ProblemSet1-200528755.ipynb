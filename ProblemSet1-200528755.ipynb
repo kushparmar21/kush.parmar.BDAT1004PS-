{
 "cells": [
  {
   "cell_type": "markdown",
   "id": "cfdc6e64",
   "metadata": {},
   "source": [
    "#Question 1 What data type is each of the following (evaluate where necessary)?\n",
    "5\n",
    "5.0\n",
    "5 > 1\n",
    "'5'\n",
    "5 * 2\n",
    "'5' * 2\n",
    "'5' + '2'\n",
    "5 / 2\n",
    "5 % 2\n",
    "{5, 2, 1}\n",
    "5 == 3\n",
    "Pi (the number)"
   ]
  },
  {
   "cell_type": "code",
   "execution_count": 2,
   "id": "d721e98c",
   "metadata": {
    "scrolled": true
   },
   "outputs": [
    {
     "name": "stdout",
     "output_type": "stream",
     "text": [
      "<class 'int'>\n",
      "<class 'float'>\n",
      "<class 'bool'>\n",
      "<class 'str'>\n",
      "<class 'int'>\n",
      "<class 'str'>\n",
      "<class 'str'>\n",
      "<class 'float'>\n",
      "<class 'int'>\n",
      "<class 'set'>\n",
      "<class 'bool'>\n"
     ]
    }
   ],
   "source": [
    "#ANSWER1: \n",
    "\n",
    "def print_type(expression):\n",
    "    print(type(expression))\n",
    "\n",
    "print_type(5)\n",
    "print_type(5.0)\n",
    "print_type(5 > 1)\n",
    "print_type('5')\n",
    "print_type(5 * 2)\n",
    "print_type('5' * 2)\n",
    "print_type('5' + '2')\n",
    "print_type(5 / 2)\n",
    "print_type(5 % 2)\n",
    "print_type({5, 2, 1})\n",
    "print_type(5 == 3)"
   ]
  },
  {
   "cell_type": "markdown",
   "id": "b23d9886",
   "metadata": {},
   "source": [
    "Pi(the number)\n",
    "For Pi(the number) it will throw SyntaxError/NameError. This error occurs because 'the number' is being treated as variables, but it has not been defined.\n",
    "In Python, variable names cannot have spaces, so 'the number' is considered a separate variable 'the' and 'number'\n",
    "To fix this, we should provide a valid number or variable as an argument to the 'Pi' function"
   ]
  },
  {
   "cell_type": "markdown",
   "id": "5db6233d",
   "metadata": {},
   "source": [
    "Question 2\n",
    "Write (and evaluate) python expressions that answer these questions:\n",
    "a. How many letters are there in 'Supercalifragilisticexpialidocious'?\n",
    "b. Does 'Supercalifragilisticexpialidocious' contain 'ice' as a substring? \n",
    "c. Which of the following words is the longest:\n",
    "Supercalifragilisticexpialidocious, Honorificabilitudinitatibus, or Bababadalgharaghtakamminarronnkonn?\n",
    "d. Which composer comes first in the dictionary: 'Berlioz', 'Borodin', 'Brian', 'Bartok', 'Bellini', 'Buxtehude', 'Bernstein'. Which one comes last?"
   ]
  },
  {
   "cell_type": "code",
   "execution_count": 3,
   "id": "7a8c5f7f",
   "metadata": {
    "scrolled": true
   },
   "outputs": [
    {
     "name": "stdout",
     "output_type": "stream",
     "text": [
      "Total number of letters present in 'Supercalifragilisticexpialidocious' are: 34\n"
     ]
    }
   ],
   "source": [
    "#ANSWER 2 a:\n",
    "a = 'Supercalifragilisticexpialidocious'\n",
    "print(f\"Total number of letters present in '{a}' are: {len(a)}\")"
   ]
  },
  {
   "cell_type": "code",
   "execution_count": 4,
   "id": "b9a72d14",
   "metadata": {},
   "outputs": [
    {
     "name": "stdout",
     "output_type": "stream",
     "text": [
      "String contains 'ice' as a substring\n"
     ]
    }
   ],
   "source": [
    "#ANSWER 2 b:\n",
    "string = 'Supercalifragilisticexpialidocious'\n",
    "substring = 'ice'\n",
    "if string.find(substring) != -1:\n",
    "    print(f\"String contains '{substring}' as a substring\")\n",
    "else:\n",
    "    print(f\"String does not contain '{substring}' as a substring\")"
   ]
  },
  {
   "cell_type": "code",
   "execution_count": 5,
   "id": "61ba48b0",
   "metadata": {},
   "outputs": [
    {
     "name": "stdout",
     "output_type": "stream",
     "text": [
      "Longest words from the list are:\n",
      "Supercalifragilisticexpialidocious\n",
      "Bababadalgharaghtakamminarronnkonn\n"
     ]
    }
   ],
   "source": [
    "#ANSWER 2 c:\n",
    "lst = [\"Supercalifragilisticexpialidocious\", \"Honorificabilitudinitatibus\", \"Bababadalgharaghtakamminarronnkonn\"]\n",
    "max_length = max(len(word) for word in lst)\n",
    "longest_words = [word for word in lst if len(word) == max_length]\n",
    "\n",
    "print(\"Longest words from the list are:\")\n",
    "for word in longest_words:\n",
    "    print(word)"
   ]
  },
  {
   "cell_type": "code",
   "execution_count": 6,
   "id": "d09e5b8d",
   "metadata": {},
   "outputs": [
    {
     "name": "stdout",
     "output_type": "stream",
     "text": [
      "First composer comes in the dictionary is: Bartok\n",
      "Last composer comes in the dictionary is: Buxtehude\n"
     ]
    }
   ],
   "source": [
    "#ANSWER 2 d:\n",
    "lst = ['Berlioz', 'Borodin', 'Brian', 'Bartok', 'Bellini', 'Buxtehude', 'Bernstein']\n",
    "\n",
    "sorted_lst = sorted(lst)\n",
    "First_Composer, Last_Composer = sorted_lst[0], sorted_lst[-1]\n",
    "\n",
    "print(\"First composer comes in the dictionary is:\", First_Composer)\n",
    "print(\"Last composer comes in the dictionary is:\", Last_Composer)"
   ]
  },
  {
   "cell_type": "markdown",
   "id": "5fb5503e",
   "metadata": {},
   "source": [
    "Question 3\n",
    "Implement function triangleArea(a,b,c) that takes as input the lengths of the 3 sides of a triangle and returns the area of the triangle. By Heron's formula, the area of a triangle with side lengths a, b, and c is s(s - a)(s -b)(s -c), where s = (a+b+c)/2.\n",
    "triangleArea(2,2,2)\n",
    "1.7320508075688772"
   ]
  },
  {
   "cell_type": "code",
   "execution_count": 7,
   "id": "1e54310e",
   "metadata": {},
   "outputs": [
    {
     "data": {
      "text/plain": [
       "1.7320508075688772"
      ]
     },
     "execution_count": 7,
     "metadata": {},
     "output_type": "execute_result"
    }
   ],
   "source": [
    "#ANSWER 3\n",
    "# We are using 'math' module which provides mathematical functions, including 'sqrt' which is used in the calculation of the triangle's area.\n",
    "def triangleArea(a, b, c):\n",
    "    s = (a + b + c) / 2\n",
    "    res = (s * (s - a) * (s - b) * (s - c)) ** 0.5\n",
    "    return res\n",
    "\n",
    "triangleArea(2, 2, 2)"
   ]
  },
  {
   "cell_type": "markdown",
   "id": "920a618f",
   "metadata": {},
   "source": [
    "Question 4\n",
    "Write a program in python to separate odd and even integers in separate arrays. Go to the editor\n",
    "Test Data :\n",
    "Input the number of elements to be stored in the array :5\n",
    "Input 5 elements in the array :\n",
    "element - 0 : 25\n",
    "element - 1 : 47\n",
    "element - 2 : 42\n",
    "element - 3 : 56\n",
    "element - 4 : 32\n",
    "Expected Output:\n",
    "The Even elements are:\n",
    "42 56 32\n",
    "The Odd elements are :\n",
    "25 47"
   ]
  },
  {
   "cell_type": "code",
   "execution_count": 8,
   "id": "d091f9ec",
   "metadata": {},
   "outputs": [
    {
     "name": "stdout",
     "output_type": "stream",
     "text": [
      "Enter number of elements: 6\n",
      "element - 0: 10\n",
      "element - 1: 11\n",
      "element - 2: 12\n",
      "element - 3: 13\n",
      "element - 4: 14\n",
      "element - 5: 15\n",
      "The Even elements are: 10 12 14\n",
      "The Odd elements are: 11 13 15\n"
     ]
    }
   ],
   "source": [
    "l1 = []\n",
    "n = int(input(\"Enter number of elements: \"))  # Taking user input\n",
    "for i in range(n):\n",
    "    element = int(input(\"element - \" + str(i) + \": \"))\n",
    "    l1.append(element)\n",
    "\n",
    "even_elements = [i for i in l1 if i % 2 == 0]\n",
    "odd_elements = [i for i in l1 if i % 2 == 1]\n",
    "\n",
    "print(\"The Even elements are:\", *even_elements)\n",
    "print(\"The Odd elements are:\", *odd_elements)"
   ]
  },
  {
   "cell_type": "markdown",
   "id": "2033317c",
   "metadata": {},
   "source": [
    "Question 5\n",
    "a). Write a function inside(x,y,x1,y1,x2,y2) that returns True or False depending on whether the point (x,y) lies in the rectangle with lower left corner (x1,y1) and upper right corner (x2,y2).\n",
    "inside(1,1,0,0,2,3)\n",
    "True\n",
    "inside(-1,-1,0,0,2,3)\n",
    "False\n",
    "\n",
    "b). Use function inside() from part a. to write an expression that tests whether the point (1,1) lies in both of the following rectangles: one with lower left corner (0.3, 0.5) and upper right corner (1.1, 0.7) and the other with lower left corner (0.5, 0.2) and upper right corner (1.1, 2). "
   ]
  },
  {
   "cell_type": "code",
   "execution_count": 9,
   "id": "8f85e631",
   "metadata": {},
   "outputs": [
    {
     "name": "stdout",
     "output_type": "stream",
     "text": [
      "True\n",
      "False\n"
     ]
    }
   ],
   "source": [
    "#ANSWER 5 a)\n",
    "\n",
    "def inside(x, y, x1, y1, x2, y2):\n",
    "    return x1 <= x <= x2 and y1 <= y <= y2\n",
    "\n",
    "print(inside(1, 1, 0, 0, 2, 3))\n",
    "print(inside(-1, -1, 0, 0, 2, 3))"
   ]
  },
  {
   "cell_type": "code",
   "execution_count": 14,
   "id": "e7f0c10d",
   "metadata": {},
   "outputs": [
    {
     "name": "stdout",
     "output_type": "stream",
     "text": [
      "False\n",
      "True\n"
     ]
    }
   ],
   "source": [
    "#ANSWER 5 b)\n",
    "\n",
    "print(inside(1,1,0.3,0.5,1.1,0.7))\n",
    "print(inside(1,1,0.5,0.2,1.1,2))"
   ]
  },
  {
   "cell_type": "markdown",
   "id": "342a1918",
   "metadata": {},
   "source": [
    "Question 6\n",
    "16.You can turn a word into pig-Latin using the following two rules (simplified):\n",
    "• If the word starts with a consonant, move that letter to the end and append 'ay'. For example, 'happy' becomes 'appyhay' and 'pencil' becomes 'encilpay'.\n",
    "• If the word starts with a vowel, simply append 'way' to the end of the word. For example, 'enter' becomes 'enterway' and 'other' becomes 'otherway' . For our purposes, there are 5 vowels: a, e, i, o, u (so we count y as a consonant). Write a function pig() that takes a word (i.e., a string) as input and returns its pigLatin form. Your function should still work if the input word contains upper case characters. Your output should always be lower case however.\n",
    "pig('happy')\n",
    "'appyhay'\n",
    "pig('Enter')\n",
    "'enterway' "
   ]
  },
  {
   "cell_type": "code",
   "execution_count": 10,
   "id": "dcf08cd5",
   "metadata": {},
   "outputs": [
    {
     "name": "stdout",
     "output_type": "stream",
     "text": [
      "Appyhay\n",
      "Enterway\n"
     ]
    }
   ],
   "source": [
    "#ANSWER 6\n",
    "def pig(x):\n",
    "    x = x.lower()\n",
    "    vowel = ['a', 'e', 'i', 'o', 'u']\n",
    "    if x[0] not in vowel:\n",
    "        return x[1:].capitalize() + x[0] + 'ay'\n",
    "    else:\n",
    "        return x.capitalize() + 'way'\n",
    "\n",
    "print(pig('happy'))  \n",
    "print(pig('Enter'))  "
   ]
  },
  {
   "cell_type": "markdown",
   "id": "66725de3",
   "metadata": {},
   "source": [
    "Question 7\n",
    "File bloodtype1.txt records blood-types of patients (A, B, AB, O or OO) at a clinic.\n",
    "Write a function bldcount() that reads the file with name name and reports (i.e., prints) how many patients there are in each bloodtype.\n",
    "bldcount('bloodtype.txt')\n",
    "There are 10 patients of blood type A.\n",
    "There is one patient of blood type B.\n",
    "There are 10 patients of blood type AB.\n",
    "There are 12 patients of blood type O.\n",
    "There are no patients of blood type OO."
   ]
  },
  {
   "cell_type": "code",
   "execution_count": 13,
   "id": "230b3c70",
   "metadata": {},
   "outputs": [
    {
     "name": "stdout",
     "output_type": "stream",
     "text": [
      "There are 15 patients of blood type A\n",
      "There is one patient of blood type B\n",
      "There are 13 patients of blood type AB\n",
      "There are 15 patients of blood type O\n",
      "There are no patients of blood type OO\n"
     ]
    }
   ],
   "source": [
    "#Answer 7\n",
    "def bldcount(name):\n",
    "    with open(name, 'r') as f:  # Using 'with' statement to automatically close the file\n",
    "        bld_type = ['A', 'B', 'AB', 'O', 'OO']\n",
    "        bld = f.read().split()  # Read all lines and split by spaces\n",
    "        count = [bld.count(bt) for bt in bld_type]\n",
    "\n",
    "    for i, bt in enumerate(bld_type):\n",
    "        if count[i] == 1:\n",
    "            print(\"There is one patient of blood type \" + bt)\n",
    "        elif count[i] == 0:\n",
    "            print(\"There are no patients of blood type \" + bt)\n",
    "        else:\n",
    "            print(\"There are \" + str(count[i]) + \" patients of blood type \" + bt)\n",
    "\n",
    "bldcount('bloodtype1.txt')\n",
    "\n",
    "# Reference for list comprehension - https://stackoverflow.com/questions/64797525/how-can-i-filter-out-a-list-from-a-txt-file-using"
   ]
  },
  {
   "cell_type": "markdown",
   "id": "f2e3102a",
   "metadata": {},
   "source": [
    "Question 8\n",
    "Write a function curconv() that takes as input:\n",
    "1.a currency represented using a string (e.g., 'JPY' for the Japanese Yen or\n",
    "'EUR' for the Euro)\n",
    "2.an amount\n",
    "and then converts and returns the amount in US dollars.\n",
    " curconv('EUR', 100)\n",
    "122.96544\n",
    "curconv('JPY', 100)\n",
    "1.241401\n",
    "The currency rates you will need are stored in file currencies.txt:\n",
    "AUD 1.0345157 Australian Dollar\n",
    "CHF 1.0237414 Swiss Franc\n",
    "CNY 0.1550176 Chinese Yuan\n",
    "DKK 0.1651442 Danish Krone\n",
    "EUR 1.2296544 Euro\n",
    "GBP 1.5550989 British Pound\n",
    "HKD 0.1270207 Hong Kong Dollar\n",
    "INR 0.0177643 Indian Rupee\n",
    "JPY 0.01241401 Japanese Yen\n",
    "MXN 0.0751848 Mexican Peso\n",
    "MYR 0.3145411 Malaysian Ringgit\n",
    "NOK 0.1677063 Norwegian Krone\n",
    "NZD 0.8003591 New Zealand Dollar\n",
    "PHP 0.0233234 Philippine Peso\n",
    "SEK 0.148269 Swedish Krona\n",
    "SGD 0.788871 Singapore Dollar\n",
    "THB 0.0313789 Thai Baht"
   ]
  },
  {
   "cell_type": "code",
   "execution_count": 17,
   "id": "aa33d483",
   "metadata": {},
   "outputs": [
    {
     "name": "stdout",
     "output_type": "stream",
     "text": [
      "122.96544\n",
      "1.241401\n"
     ]
    }
   ],
   "source": [
    "#Answer 8\n",
    "def curconv(cur, amt):\n",
    "    with open(\"currencies.txt\", \"r\") as f:\n",
    "        for line in f:\n",
    "            parts = line.strip().split()  \n",
    "            if parts[0] == cur:\n",
    "                return float(parts[1]) * amt\n",
    "\n",
    "print(curconv(\"EUR\", 100))  \n",
    "print(curconv('JPY', 100))"
   ]
  },
  {
   "cell_type": "markdown",
   "id": "5818bfae",
   "metadata": {},
   "source": [
    "Question 9\n",
    "Each of the following will cause an exception (an error). Identify what type of exception each will cause.\n",
    "a) Trying to add incompatible variables, as in adding 6 + ‘a’.\n",
    "b) Referring to the 12th item of a list that has only 10 items.\n",
    "c) Using a value that is out of range for a function’s input, such as calling math.sqrt(-1.0).\n",
    "d) Using an undeclared variable, such as print(x) when x has not been defined.\n",
    "e) Trying to open a file that does not exist, such asmistyping the file name or looking in the wrong directory."
   ]
  },
  {
   "cell_type": "code",
   "execution_count": 18,
   "id": "08593551",
   "metadata": {},
   "outputs": [
    {
     "ename": "TypeError",
     "evalue": "unsupported operand type(s) for +: 'int' and 'str'",
     "output_type": "error",
     "traceback": [
      "\u001b[1;31m---------------------------------------------------------------------------\u001b[0m",
      "\u001b[1;31mTypeError\u001b[0m                                 Traceback (most recent call last)",
      "Cell \u001b[1;32mIn[18], line 4\u001b[0m\n\u001b[0;32m      1\u001b[0m \u001b[38;5;66;03m#Answer 9\u001b[39;00m\n\u001b[0;32m      2\u001b[0m \u001b[38;5;66;03m#a  \u001b[39;00m\n\u001b[1;32m----> 4\u001b[0m \u001b[38;5;28mprint\u001b[39m(\u001b[38;5;241m6\u001b[39m \u001b[38;5;241m+\u001b[39m \u001b[38;5;124m'\u001b[39m\u001b[38;5;124ma\u001b[39m\u001b[38;5;124m'\u001b[39m)\n",
      "\u001b[1;31mTypeError\u001b[0m: unsupported operand type(s) for +: 'int' and 'str'"
     ]
    }
   ],
   "source": [
    "#Answer 9\n",
    "#a  \n",
    "\n",
    "print(6 + 'a')"
   ]
  },
  {
   "cell_type": "markdown",
   "id": "5109df9a",
   "metadata": {},
   "source": [
    "1.Trying to add incompatible variables, as in adding 6 + ‘a’\n",
    "If we try to add incomatible variables, such as adding an integer to a string like 6 + 'a', it will raise \"TypeError\".\n",
    "The reason is we are trying to perform an operation that is not defined for those types of variables."
   ]
  },
  {
   "cell_type": "code",
   "execution_count": 19,
   "id": "ceb57d08",
   "metadata": {},
   "outputs": [
    {
     "ename": "IndexError",
     "evalue": "list index out of range",
     "output_type": "error",
     "traceback": [
      "\u001b[1;31m---------------------------------------------------------------------------\u001b[0m",
      "\u001b[1;31mIndexError\u001b[0m                                Traceback (most recent call last)",
      "Cell \u001b[1;32mIn[19], line 5\u001b[0m\n\u001b[0;32m      1\u001b[0m \u001b[38;5;66;03m#Answer 9\u001b[39;00m\n\u001b[0;32m      2\u001b[0m \u001b[38;5;66;03m#b  \u001b[39;00m\n\u001b[0;32m      4\u001b[0m Lst \u001b[38;5;241m=\u001b[39m [\u001b[38;5;241m1\u001b[39m,\u001b[38;5;241m2\u001b[39m,\u001b[38;5;241m3\u001b[39m,\u001b[38;5;241m4\u001b[39m,\u001b[38;5;241m5\u001b[39m,\u001b[38;5;241m6\u001b[39m,\u001b[38;5;241m7\u001b[39m,\u001b[38;5;241m8\u001b[39m,\u001b[38;5;241m9\u001b[39m,\u001b[38;5;241m10\u001b[39m]\n\u001b[1;32m----> 5\u001b[0m \u001b[38;5;28mprint\u001b[39m(Lst[\u001b[38;5;241m11\u001b[39m])\n",
      "\u001b[1;31mIndexError\u001b[0m: list index out of range"
     ]
    }
   ],
   "source": [
    "#Answer 9\n",
    "#b  \n",
    "\n",
    "Lst = [1,2,3,4,5,6,7,8,9,10]\n",
    "print(Lst[11])"
   ]
  },
  {
   "cell_type": "markdown",
   "id": "76dc3d0a",
   "metadata": {},
   "source": [
    "2.When you try to access an index in a list that is beyond its length, like referring to the 12th item of a list that only has 10 items, you'll get an \"IndexError\" message. This happens because the index you're trying to access is outside the valid range of indices for the list."
   ]
  },
  {
   "cell_type": "code",
   "execution_count": 20,
   "id": "d83453be",
   "metadata": {},
   "outputs": [
    {
     "ename": "ValueError",
     "evalue": "math domain error",
     "output_type": "error",
     "traceback": [
      "\u001b[1;31m---------------------------------------------------------------------------\u001b[0m",
      "\u001b[1;31mValueError\u001b[0m                                Traceback (most recent call last)",
      "Cell \u001b[1;32mIn[20], line 5\u001b[0m\n\u001b[0;32m      1\u001b[0m \u001b[38;5;66;03m#Answer 9\u001b[39;00m\n\u001b[0;32m      2\u001b[0m \u001b[38;5;66;03m#c  \u001b[39;00m\n\u001b[0;32m      4\u001b[0m \u001b[38;5;28;01mimport\u001b[39;00m \u001b[38;5;21;01mmath\u001b[39;00m\n\u001b[1;32m----> 5\u001b[0m \u001b[38;5;28mprint\u001b[39m(math\u001b[38;5;241m.\u001b[39msqrt(\u001b[38;5;241m-\u001b[39m\u001b[38;5;241m1\u001b[39m))\n",
      "\u001b[1;31mValueError\u001b[0m: math domain error"
     ]
    }
   ],
   "source": [
    "#Answer 9\n",
    "#c  \n",
    "\n",
    "import math\n",
    "print(math.sqrt(-1))"
   ]
  },
  {
   "cell_type": "markdown",
   "id": "204d43a7",
   "metadata": {},
   "source": [
    "3.When you try to use a value that is not valid for a function's input, like attempting to calculate the square root of a negative number using math.sqrt(-1.0), you'll encounter a \"ValueError\" message. This happens because the square root of a negative number is undefined in the real number system, hence the error."
   ]
  },
  {
   "cell_type": "code",
   "execution_count": 21,
   "id": "3c31b29e",
   "metadata": {},
   "outputs": [
    {
     "ename": "NameError",
     "evalue": "name 'x' is not defined",
     "output_type": "error",
     "traceback": [
      "\u001b[1;31m---------------------------------------------------------------------------\u001b[0m",
      "\u001b[1;31mNameError\u001b[0m                                 Traceback (most recent call last)",
      "Cell \u001b[1;32mIn[21], line 4\u001b[0m\n\u001b[0;32m      1\u001b[0m \u001b[38;5;66;03m#Answer 9\u001b[39;00m\n\u001b[0;32m      2\u001b[0m \u001b[38;5;66;03m#d  \u001b[39;00m\n\u001b[1;32m----> 4\u001b[0m \u001b[38;5;28mprint\u001b[39m(x)\n",
      "\u001b[1;31mNameError\u001b[0m: name 'x' is not defined"
     ]
    }
   ],
   "source": [
    "#Answer 9\n",
    "#d  \n",
    "\n",
    "print(x)"
   ]
  },
  {
   "cell_type": "markdown",
   "id": "232776f1",
   "metadata": {},
   "source": [
    "4.If you try to use a variable that hasn't been declared or given a value, like trying to print x when x hasn't been defined, you'll get a \"NameError\" message. This happens because the interpreter doesn't recognize what x is since it hasn't been defined or assigned a value."
   ]
  },
  {
   "cell_type": "code",
   "execution_count": 22,
   "id": "095b8a58",
   "metadata": {
    "scrolled": true
   },
   "outputs": [
    {
     "ename": "FileNotFoundError",
     "evalue": "[Errno 2] No such file or directory: 'nofile.txt'",
     "output_type": "error",
     "traceback": [
      "\u001b[1;31m---------------------------------------------------------------------------\u001b[0m",
      "\u001b[1;31mFileNotFoundError\u001b[0m                         Traceback (most recent call last)",
      "Cell \u001b[1;32mIn[22], line 4\u001b[0m\n\u001b[0;32m      1\u001b[0m \u001b[38;5;66;03m#Answer 9\u001b[39;00m\n\u001b[0;32m      2\u001b[0m \u001b[38;5;66;03m#e  \u001b[39;00m\n\u001b[1;32m----> 4\u001b[0m f \u001b[38;5;241m=\u001b[39m \u001b[38;5;28mopen\u001b[39m(\u001b[38;5;124m'\u001b[39m\u001b[38;5;124mnofile.txt\u001b[39m\u001b[38;5;124m'\u001b[39m)\n",
      "File \u001b[1;32m~\\anaconda3\\Lib\\site-packages\\IPython\\core\\interactiveshell.py:286\u001b[0m, in \u001b[0;36m_modified_open\u001b[1;34m(file, *args, **kwargs)\u001b[0m\n\u001b[0;32m    279\u001b[0m \u001b[38;5;28;01mif\u001b[39;00m file \u001b[38;5;129;01min\u001b[39;00m {\u001b[38;5;241m0\u001b[39m, \u001b[38;5;241m1\u001b[39m, \u001b[38;5;241m2\u001b[39m}:\n\u001b[0;32m    280\u001b[0m     \u001b[38;5;28;01mraise\u001b[39;00m \u001b[38;5;167;01mValueError\u001b[39;00m(\n\u001b[0;32m    281\u001b[0m         \u001b[38;5;124mf\u001b[39m\u001b[38;5;124m\"\u001b[39m\u001b[38;5;124mIPython won\u001b[39m\u001b[38;5;124m'\u001b[39m\u001b[38;5;124mt let you open fd=\u001b[39m\u001b[38;5;132;01m{\u001b[39;00mfile\u001b[38;5;132;01m}\u001b[39;00m\u001b[38;5;124m by default \u001b[39m\u001b[38;5;124m\"\u001b[39m\n\u001b[0;32m    282\u001b[0m         \u001b[38;5;124m\"\u001b[39m\u001b[38;5;124mas it is likely to crash IPython. If you know what you are doing, \u001b[39m\u001b[38;5;124m\"\u001b[39m\n\u001b[0;32m    283\u001b[0m         \u001b[38;5;124m\"\u001b[39m\u001b[38;5;124myou can use builtins\u001b[39m\u001b[38;5;124m'\u001b[39m\u001b[38;5;124m open.\u001b[39m\u001b[38;5;124m\"\u001b[39m\n\u001b[0;32m    284\u001b[0m     )\n\u001b[1;32m--> 286\u001b[0m \u001b[38;5;28;01mreturn\u001b[39;00m io_open(file, \u001b[38;5;241m*\u001b[39margs, \u001b[38;5;241m*\u001b[39m\u001b[38;5;241m*\u001b[39mkwargs)\n",
      "\u001b[1;31mFileNotFoundError\u001b[0m: [Errno 2] No such file or directory: 'nofile.txt'"
     ]
    }
   ],
   "source": [
    "#Answer 9\n",
    "#e  \n",
    "\n",
    "f = open('nofile.txt')"
   ]
  },
  {
   "cell_type": "markdown",
   "id": "ed41fd5d",
   "metadata": {},
   "source": [
    "5.If you try to open a file that doesn't exist, like typing the file name wrong or checking the wrong folder, you'll get a \"FileNotFoundError\" message."
   ]
  },
  {
   "cell_type": "markdown",
   "id": "6317a03e",
   "metadata": {},
   "source": [
    "Question 10\n",
    "Encryption is the process of hiding the meaning of a text by substituting letters in themessage with other letters, according to some system. If the process is successful, noone but the intended recipient can understand the encrypted message. Cryptanalysisrefers to attempts to undo the encryption, even if some details of the encryption areunknown (for example, if an encrypted message has been intercepted). The first step of cryptanalysis is often to build up a table of letter frequencies in the encrypted text. Assume that the string letters is already defined as 'abcdefghijklmnopqrstuvwxyz'. Write a function called frequencies() that takes a string as its only parameter, and returns a list of integers, showing the number of times each character appears in the text. Your function may ignore any characters that are not in letters. frequencies('The quick red fox got bored and went home.') 1, 1, 1, 3, 5, 1, 1, 2, 1, 0, 1, 0, 1, 2, 4, 0, 1, 2, 0, 2,1, 0, 1, 1, 0, 0\n",
    "frequencies('apple')"
   ]
  },
  {
   "cell_type": "code",
   "execution_count": 14,
   "id": "c48d95f0",
   "metadata": {},
   "outputs": [
    {
     "name": "stdout",
     "output_type": "stream",
     "text": [
      "[1, 1, 1, 3, 5, 1, 1, 2, 1, 0, 1, 0, 1, 2, 4, 0, 1, 2, 0, 3, 1, 0, 1, 1, 0, 0]\n",
      "[1, 0, 0, 0, 1, 0, 0, 0, 0, 0, 0, 1, 0, 0, 0, 2, 0, 0, 0, 0, 0, 0, 0, 0, 0, 0]\n"
     ]
    }
   ],
   "source": [
    "#ANSWER 10\n",
    "def frequencies(string):\n",
    "    string = string.lower()  # Convert string to lowercase to ensure case-insensitive counting\n",
    "    counts = [string.count(char) for char in 'abcdefghijklmnopqrstuvwxyz']\n",
    "    return counts\n",
    "\n",
    "print(frequencies('The quick red fox got bored and went home'))\n",
    "print(frequencies('apple'))"
   ]
  },
  {
   "cell_type": "code",
   "execution_count": null,
   "id": "ad16f40e",
   "metadata": {},
   "outputs": [],
   "source": []
  }
 ],
 "metadata": {
  "kernelspec": {
   "display_name": "Python 3 (ipykernel)",
   "language": "python",
   "name": "python3"
  },
  "language_info": {
   "codemirror_mode": {
    "name": "ipython",
    "version": 3
   },
   "file_extension": ".py",
   "mimetype": "text/x-python",
   "name": "python",
   "nbconvert_exporter": "python",
   "pygments_lexer": "ipython3",
   "version": "3.11.5"
  }
 },
 "nbformat": 4,
 "nbformat_minor": 5
}
